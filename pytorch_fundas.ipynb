{
  "nbformat": 4,
  "nbformat_minor": 0,
  "metadata": {
    "colab": {
      "provenance": [],
      "gpuType": "T4"
    },
    "kernelspec": {
      "name": "python3",
      "display_name": "Python 3"
    },
    "language_info": {
      "name": "python"
    },
    "accelerator": "GPU"
  },
  "cells": [
    {
      "cell_type": "code",
      "source": [
        "!nvidia-smi"
      ],
      "metadata": {
        "colab": {
          "base_uri": "https://localhost:8080/"
        },
        "id": "kAGIzRRTkBPc",
        "outputId": "38b51964-adad-4c29-87d7-5d7865d2f315"
      },
      "execution_count": null,
      "outputs": [
        {
          "output_type": "stream",
          "name": "stdout",
          "text": [
            "/bin/bash: line 1: nvidia-smi: command not found\n"
          ]
        }
      ]
    },
    {
      "cell_type": "code",
      "execution_count": null,
      "metadata": {
        "colab": {
          "base_uri": "https://localhost:8080/"
        },
        "id": "78Ddr0TOjgEs",
        "outputId": "60d46586-b8a7-49a0-d909-4bef68c1a6af"
      },
      "outputs": [
        {
          "output_type": "stream",
          "name": "stdout",
          "text": [
            "2.0.1+cu118\n"
          ]
        }
      ],
      "source": [
        "import torch\n",
        "import pandas as pd\n",
        "import numpy as np\n",
        "import matplotlib.pyplot as plt\n",
        "print(torch.__version__)"
      ]
    },
    {
      "cell_type": "code",
      "source": [
        "scalar = torch.tensor(7)\n",
        "scalar\n",
        "# print(type(scalar))"
      ],
      "metadata": {
        "colab": {
          "base_uri": "https://localhost:8080/"
        },
        "id": "URgtzwVlmHNj",
        "outputId": "e712063d-6429-47ec-ebb0-2503b21461bf"
      },
      "execution_count": null,
      "outputs": [
        {
          "output_type": "execute_result",
          "data": {
            "text/plain": [
              "tensor(7)"
            ]
          },
          "metadata": {},
          "execution_count": 3
        }
      ]
    },
    {
      "cell_type": "code",
      "source": [
        "scalar.ndim"
      ],
      "metadata": {
        "colab": {
          "base_uri": "https://localhost:8080/"
        },
        "id": "5FBA-S6emteB",
        "outputId": "fd07da7d-f3be-4858-b410-198ad24c135e"
      },
      "execution_count": null,
      "outputs": [
        {
          "output_type": "execute_result",
          "data": {
            "text/plain": [
              "0"
            ]
          },
          "metadata": {},
          "execution_count": 4
        }
      ]
    },
    {
      "cell_type": "code",
      "source": [
        "scalar.item() #getting scalar back as python int"
      ],
      "metadata": {
        "colab": {
          "base_uri": "https://localhost:8080/"
        },
        "id": "xVEPjHYGnMxq",
        "outputId": "11a9e1db-51bb-436c-897a-bd28f2d96d02"
      },
      "execution_count": null,
      "outputs": [
        {
          "output_type": "execute_result",
          "data": {
            "text/plain": [
              "7"
            ]
          },
          "metadata": {},
          "execution_count": 5
        }
      ]
    },
    {
      "cell_type": "code",
      "source": [
        "vector = torch.tensor([7,7])\n",
        "vector\n",
        "# print(type(vector))"
      ],
      "metadata": {
        "colab": {
          "base_uri": "https://localhost:8080/"
        },
        "id": "pJH03XOsnQ4j",
        "outputId": "6188c439-f1fe-4710-dc1a-4b1b027f2ce1"
      },
      "execution_count": null,
      "outputs": [
        {
          "output_type": "execute_result",
          "data": {
            "text/plain": [
              "tensor([7, 7])"
            ]
          },
          "metadata": {},
          "execution_count": 6
        }
      ]
    },
    {
      "cell_type": "code",
      "source": [
        "vector.ndim"
      ],
      "metadata": {
        "colab": {
          "base_uri": "https://localhost:8080/"
        },
        "id": "W8lGln6xnc4D",
        "outputId": "bd2ff374-0c59-4e57-a8e6-e980d8edcb3b"
      },
      "execution_count": null,
      "outputs": [
        {
          "output_type": "execute_result",
          "data": {
            "text/plain": [
              "1"
            ]
          },
          "metadata": {},
          "execution_count": 7
        }
      ]
    },
    {
      "cell_type": "code",
      "source": [
        "vector.shape"
      ],
      "metadata": {
        "colab": {
          "base_uri": "https://localhost:8080/"
        },
        "id": "nsQMRXLZntGd",
        "outputId": "2869dd00-fdc1-42d5-eb71-594470bf207c"
      },
      "execution_count": null,
      "outputs": [
        {
          "output_type": "execute_result",
          "data": {
            "text/plain": [
              "torch.Size([2])"
            ]
          },
          "metadata": {},
          "execution_count": 8
        }
      ]
    },
    {
      "cell_type": "code",
      "source": [
        "MATRIX = torch.tensor([[7,8],[9,10]])\n",
        "MATRIX\n"
      ],
      "metadata": {
        "colab": {
          "base_uri": "https://localhost:8080/"
        },
        "id": "wr8dhZYQnxoB",
        "outputId": "900a51d1-a6cf-4bf5-dc4e-b7b1ea4b954b"
      },
      "execution_count": null,
      "outputs": [
        {
          "output_type": "execute_result",
          "data": {
            "text/plain": [
              "tensor([[ 7,  8],\n",
              "        [ 9, 10]])"
            ]
          },
          "metadata": {},
          "execution_count": 9
        }
      ]
    },
    {
      "cell_type": "code",
      "source": [
        "MATRIX.ndim"
      ],
      "metadata": {
        "colab": {
          "base_uri": "https://localhost:8080/"
        },
        "id": "NxMiGixxoHmN",
        "outputId": "0aa294b8-a6c0-44a5-d949-6f6929a083a4"
      },
      "execution_count": null,
      "outputs": [
        {
          "output_type": "execute_result",
          "data": {
            "text/plain": [
              "2"
            ]
          },
          "metadata": {},
          "execution_count": 10
        }
      ]
    },
    {
      "cell_type": "code",
      "source": [
        "MATRIX.shape"
      ],
      "metadata": {
        "colab": {
          "base_uri": "https://localhost:8080/"
        },
        "id": "KQ5uQmEYoL2S",
        "outputId": "534bbd35-8920-4a53-b53b-35f90ab4484a"
      },
      "execution_count": null,
      "outputs": [
        {
          "output_type": "execute_result",
          "data": {
            "text/plain": [
              "torch.Size([2, 2])"
            ]
          },
          "metadata": {},
          "execution_count": 11
        }
      ]
    },
    {
      "cell_type": "code",
      "source": [
        "MATRIX[1]"
      ],
      "metadata": {
        "colab": {
          "base_uri": "https://localhost:8080/"
        },
        "id": "n2peM_IwoORm",
        "outputId": "e6c7ddd3-4ec5-4604-f2bd-8b8f05292421"
      },
      "execution_count": null,
      "outputs": [
        {
          "output_type": "execute_result",
          "data": {
            "text/plain": [
              "tensor([ 9, 10])"
            ]
          },
          "metadata": {},
          "execution_count": 12
        }
      ]
    },
    {
      "cell_type": "code",
      "source": [
        "#TENSOR\n",
        "TENSOR = torch.tensor([[[1,2,3,4],[3,6,7,7],[6,7,8,9]]])\n",
        "TENSOR"
      ],
      "metadata": {
        "colab": {
          "base_uri": "https://localhost:8080/"
        },
        "id": "fT3yUYwnoUSq",
        "outputId": "713f0698-939f-4390-c429-640fd3ee4953"
      },
      "execution_count": null,
      "outputs": [
        {
          "output_type": "execute_result",
          "data": {
            "text/plain": [
              "tensor([[[1, 2, 3, 4],\n",
              "         [3, 6, 7, 7],\n",
              "         [6, 7, 8, 9]]])"
            ]
          },
          "metadata": {},
          "execution_count": 13
        }
      ]
    },
    {
      "cell_type": "code",
      "source": [
        "TENSOR.ndim"
      ],
      "metadata": {
        "colab": {
          "base_uri": "https://localhost:8080/"
        },
        "id": "mRhpdctQouR9",
        "outputId": "1af28ba3-b45e-41ef-d335-67979fb49327"
      },
      "execution_count": null,
      "outputs": [
        {
          "output_type": "execute_result",
          "data": {
            "text/plain": [
              "3"
            ]
          },
          "metadata": {},
          "execution_count": 14
        }
      ]
    },
    {
      "cell_type": "code",
      "source": [
        "TENSOR.shape"
      ],
      "metadata": {
        "colab": {
          "base_uri": "https://localhost:8080/"
        },
        "id": "pTZ_Vmxuoxmh",
        "outputId": "ff729947-069e-4d55-e0e3-09beabad5ca2"
      },
      "execution_count": null,
      "outputs": [
        {
          "output_type": "execute_result",
          "data": {
            "text/plain": [
              "torch.Size([1, 3, 4])"
            ]
          },
          "metadata": {},
          "execution_count": 15
        }
      ]
    },
    {
      "cell_type": "code",
      "source": [
        "TENSOR[0]"
      ],
      "metadata": {
        "colab": {
          "base_uri": "https://localhost:8080/"
        },
        "id": "owUCX6-1ozjE",
        "outputId": "40adbe93-5300-43af-a3e2-0bbf701f014c"
      },
      "execution_count": null,
      "outputs": [
        {
          "output_type": "execute_result",
          "data": {
            "text/plain": [
              "tensor([[1, 2, 3, 4],\n",
              "        [3, 6, 7, 7],\n",
              "        [6, 7, 8, 9]])"
            ]
          },
          "metadata": {},
          "execution_count": 16
        }
      ]
    },
    {
      "cell_type": "code",
      "source": [
        "TENSOR[0]"
      ],
      "metadata": {
        "colab": {
          "base_uri": "https://localhost:8080/"
        },
        "id": "7268tr4kpCFa",
        "outputId": "ea7f7679-de16-47f4-c7e8-ab7ba79d283b"
      },
      "execution_count": null,
      "outputs": [
        {
          "output_type": "execute_result",
          "data": {
            "text/plain": [
              "tensor([[1, 2, 3, 4],\n",
              "        [3, 6, 7, 7],\n",
              "        [6, 7, 8, 9]])"
            ]
          },
          "metadata": {},
          "execution_count": 17
        }
      ]
    },
    {
      "cell_type": "code",
      "source": [
        "# random  tensors\n",
        "random_tensor = torch.rand(2,4)\n",
        "random_tensor"
      ],
      "metadata": {
        "colab": {
          "base_uri": "https://localhost:8080/"
        },
        "id": "wbCNhrPypEG6",
        "outputId": "0e40b156-3953-44f4-df55-30ba64b6168a"
      },
      "execution_count": null,
      "outputs": [
        {
          "output_type": "execute_result",
          "data": {
            "text/plain": [
              "tensor([[0.4579, 0.1240, 0.8123, 0.8026],\n",
              "        [0.6646, 0.1551, 0.4923, 0.5519]])"
            ]
          },
          "metadata": {},
          "execution_count": 18
        }
      ]
    },
    {
      "cell_type": "code",
      "source": [
        "random_tensor = torch.rand(3,10,10)\n",
        "random_tensor"
      ],
      "metadata": {
        "colab": {
          "base_uri": "https://localhost:8080/"
        },
        "id": "xqjLTIy7rL68",
        "outputId": "6f86dcde-9315-4ba5-ad30-c1ea492919a8"
      },
      "execution_count": null,
      "outputs": [
        {
          "output_type": "execute_result",
          "data": {
            "text/plain": [
              "tensor([[[0.8711, 0.8341, 0.3252, 0.6131, 0.6589, 0.4531, 0.0486, 0.9062,\n",
              "          0.4909, 0.5676],\n",
              "         [0.1007, 0.5717, 0.8105, 0.1325, 0.9958, 0.6423, 0.6521, 0.8343,\n",
              "          0.4551, 0.5682],\n",
              "         [0.1125, 0.3900, 0.0086, 0.6928, 0.6682, 0.1805, 0.5666, 0.4929,\n",
              "          0.2425, 0.0203],\n",
              "         [0.6876, 0.5462, 0.1086, 0.8718, 0.7564, 0.0030, 0.3746, 0.7974,\n",
              "          0.8156, 0.9049],\n",
              "         [0.4015, 0.0826, 0.7236, 0.9498, 0.3754, 0.5777, 0.5190, 0.7270,\n",
              "          0.6580, 0.6105],\n",
              "         [0.7965, 0.5337, 0.4043, 0.0063, 0.0973, 0.3481, 0.8814, 0.8549,\n",
              "          0.0775, 0.7769],\n",
              "         [0.6226, 0.6555, 0.4563, 0.0602, 0.2398, 0.2209, 0.0265, 0.9684,\n",
              "          0.1240, 0.6129],\n",
              "         [0.0147, 0.6414, 0.7115, 0.4668, 0.3573, 0.2649, 0.3043, 0.5981,\n",
              "          0.0755, 0.7438],\n",
              "         [0.1370, 0.1847, 0.3648, 0.0889, 0.2364, 0.6407, 0.1174, 0.7006,\n",
              "          0.7885, 0.0372],\n",
              "         [0.1531, 0.7383, 0.2187, 0.1738, 0.3278, 0.6657, 0.4234, 0.3905,\n",
              "          0.8742, 0.7392]],\n",
              "\n",
              "        [[0.8907, 0.0146, 0.2894, 0.0137, 0.6081, 0.0879, 0.1467, 0.2058,\n",
              "          0.0227, 0.6336],\n",
              "         [0.6168, 0.0666, 0.3586, 0.2511, 0.2788, 0.6888, 0.9992, 0.9891,\n",
              "          0.2341, 0.5294],\n",
              "         [0.3051, 0.6927, 0.9951, 0.3997, 0.1759, 0.8667, 0.0273, 0.0632,\n",
              "          0.0394, 0.7522],\n",
              "         [0.6161, 0.5692, 0.8521, 0.4797, 0.3569, 0.1515, 0.2449, 0.2155,\n",
              "          0.3809, 0.8773],\n",
              "         [0.8961, 0.1363, 0.6870, 0.1101, 0.4441, 0.5341, 0.5973, 0.3786,\n",
              "          0.4342, 0.5411],\n",
              "         [0.8679, 0.1288, 0.0277, 0.4157, 0.7684, 0.7582, 0.1192, 0.5832,\n",
              "          0.7560, 0.5251],\n",
              "         [0.5286, 0.7454, 0.5665, 0.5842, 0.4586, 0.7026, 0.4228, 0.6280,\n",
              "          0.9042, 0.2299],\n",
              "         [0.4135, 0.3233, 0.7231, 0.3582, 0.7746, 0.1075, 0.5220, 0.2679,\n",
              "          0.4581, 0.8313],\n",
              "         [0.4555, 0.5057, 0.9388, 0.0571, 0.8494, 0.8841, 0.5867, 0.6006,\n",
              "          0.5139, 0.3848],\n",
              "         [0.2743, 0.7127, 0.0145, 0.2427, 0.6529, 0.5266, 0.2058, 0.7835,\n",
              "          0.4212, 0.5077]],\n",
              "\n",
              "        [[0.9176, 0.2766, 0.4286, 0.2348, 0.0384, 0.9780, 0.5771, 0.4388,\n",
              "          0.1004, 0.4221],\n",
              "         [0.7008, 0.2453, 0.5907, 0.2863, 0.1021, 0.8505, 0.7268, 0.3942,\n",
              "          0.9191, 0.2333],\n",
              "         [0.3582, 0.5615, 0.5565, 0.5755, 0.5788, 0.0416, 0.3634, 0.9115,\n",
              "          0.3470, 0.9442],\n",
              "         [0.9540, 0.8974, 0.7366, 0.3281, 0.9454, 0.6006, 0.5235, 0.6181,\n",
              "          0.7055, 0.4998],\n",
              "         [0.1465, 0.8359, 0.1929, 0.6701, 0.0623, 0.3931, 0.6164, 0.6999,\n",
              "          0.7677, 0.9258],\n",
              "         [0.3300, 0.3450, 0.8552, 0.2484, 0.4227, 0.6170, 0.9759, 0.8305,\n",
              "          0.7116, 0.7568],\n",
              "         [0.8607, 0.6879, 0.7267, 0.3778, 0.2138, 0.8388, 0.8146, 0.9745,\n",
              "          0.4774, 0.5788],\n",
              "         [0.8007, 0.3296, 0.0967, 0.6283, 0.8430, 0.7662, 0.7358, 0.5338,\n",
              "          0.9587, 0.8542],\n",
              "         [0.6154, 0.0234, 0.9225, 0.4394, 0.3795, 0.7143, 0.9480, 0.0957,\n",
              "          0.0211, 0.8779],\n",
              "         [0.0896, 0.7402, 0.8183, 0.4334, 0.0415, 0.3984, 0.2288, 0.4653,\n",
              "          0.2852, 0.7535]]])"
            ]
          },
          "metadata": {},
          "execution_count": 19
        }
      ]
    },
    {
      "cell_type": "code",
      "source": [
        "random_tensor.ndim"
      ],
      "metadata": {
        "colab": {
          "base_uri": "https://localhost:8080/"
        },
        "id": "-8SqWhaCrSDn",
        "outputId": "5d498c6e-46f2-4fe3-9473-cecaa365fddb"
      },
      "execution_count": null,
      "outputs": [
        {
          "output_type": "execute_result",
          "data": {
            "text/plain": [
              "3"
            ]
          },
          "metadata": {},
          "execution_count": 20
        }
      ]
    },
    {
      "cell_type": "code",
      "source": [
        "#creating a random tensor with similar shape to an image tensor\n",
        "random_image_size_tensor = torch.rand(size=(224,224,3)) #height,widht,colorchannel(r,g,b)\n",
        "random_image_size_tensor.shape, random_image_size_tensor.ndim"
      ],
      "metadata": {
        "colab": {
          "base_uri": "https://localhost:8080/"
        },
        "id": "se3Td4gLrtQt",
        "outputId": "da129678-f85f-4414-823c-b77bab65ca87"
      },
      "execution_count": null,
      "outputs": [
        {
          "output_type": "execute_result",
          "data": {
            "text/plain": [
              "(torch.Size([224, 224, 3]), 3)"
            ]
          },
          "metadata": {},
          "execution_count": 21
        }
      ]
    },
    {
      "cell_type": "code",
      "source": [
        "zero = torch.zeros(size=(3,10,10))\n",
        "zero"
      ],
      "metadata": {
        "colab": {
          "base_uri": "https://localhost:8080/"
        },
        "id": "iTUsqFSVrXsO",
        "outputId": "e1e1827c-feac-4f9a-9044-53872360fbb0"
      },
      "execution_count": null,
      "outputs": [
        {
          "output_type": "execute_result",
          "data": {
            "text/plain": [
              "tensor([[[0., 0., 0., 0., 0., 0., 0., 0., 0., 0.],\n",
              "         [0., 0., 0., 0., 0., 0., 0., 0., 0., 0.],\n",
              "         [0., 0., 0., 0., 0., 0., 0., 0., 0., 0.],\n",
              "         [0., 0., 0., 0., 0., 0., 0., 0., 0., 0.],\n",
              "         [0., 0., 0., 0., 0., 0., 0., 0., 0., 0.],\n",
              "         [0., 0., 0., 0., 0., 0., 0., 0., 0., 0.],\n",
              "         [0., 0., 0., 0., 0., 0., 0., 0., 0., 0.],\n",
              "         [0., 0., 0., 0., 0., 0., 0., 0., 0., 0.],\n",
              "         [0., 0., 0., 0., 0., 0., 0., 0., 0., 0.],\n",
              "         [0., 0., 0., 0., 0., 0., 0., 0., 0., 0.]],\n",
              "\n",
              "        [[0., 0., 0., 0., 0., 0., 0., 0., 0., 0.],\n",
              "         [0., 0., 0., 0., 0., 0., 0., 0., 0., 0.],\n",
              "         [0., 0., 0., 0., 0., 0., 0., 0., 0., 0.],\n",
              "         [0., 0., 0., 0., 0., 0., 0., 0., 0., 0.],\n",
              "         [0., 0., 0., 0., 0., 0., 0., 0., 0., 0.],\n",
              "         [0., 0., 0., 0., 0., 0., 0., 0., 0., 0.],\n",
              "         [0., 0., 0., 0., 0., 0., 0., 0., 0., 0.],\n",
              "         [0., 0., 0., 0., 0., 0., 0., 0., 0., 0.],\n",
              "         [0., 0., 0., 0., 0., 0., 0., 0., 0., 0.],\n",
              "         [0., 0., 0., 0., 0., 0., 0., 0., 0., 0.]],\n",
              "\n",
              "        [[0., 0., 0., 0., 0., 0., 0., 0., 0., 0.],\n",
              "         [0., 0., 0., 0., 0., 0., 0., 0., 0., 0.],\n",
              "         [0., 0., 0., 0., 0., 0., 0., 0., 0., 0.],\n",
              "         [0., 0., 0., 0., 0., 0., 0., 0., 0., 0.],\n",
              "         [0., 0., 0., 0., 0., 0., 0., 0., 0., 0.],\n",
              "         [0., 0., 0., 0., 0., 0., 0., 0., 0., 0.],\n",
              "         [0., 0., 0., 0., 0., 0., 0., 0., 0., 0.],\n",
              "         [0., 0., 0., 0., 0., 0., 0., 0., 0., 0.],\n",
              "         [0., 0., 0., 0., 0., 0., 0., 0., 0., 0.],\n",
              "         [0., 0., 0., 0., 0., 0., 0., 0., 0., 0.]]])"
            ]
          },
          "metadata": {},
          "execution_count": 22
        }
      ]
    },
    {
      "cell_type": "code",
      "source": [
        "zero * random_tensor"
      ],
      "metadata": {
        "colab": {
          "base_uri": "https://localhost:8080/"
        },
        "id": "cdkivI0us2Dq",
        "outputId": "8ce92a4f-7324-4011-d94d-c2ebf4e1d59a"
      },
      "execution_count": null,
      "outputs": [
        {
          "output_type": "execute_result",
          "data": {
            "text/plain": [
              "tensor([[[0., 0., 0., 0., 0., 0., 0., 0., 0., 0.],\n",
              "         [0., 0., 0., 0., 0., 0., 0., 0., 0., 0.],\n",
              "         [0., 0., 0., 0., 0., 0., 0., 0., 0., 0.],\n",
              "         [0., 0., 0., 0., 0., 0., 0., 0., 0., 0.],\n",
              "         [0., 0., 0., 0., 0., 0., 0., 0., 0., 0.],\n",
              "         [0., 0., 0., 0., 0., 0., 0., 0., 0., 0.],\n",
              "         [0., 0., 0., 0., 0., 0., 0., 0., 0., 0.],\n",
              "         [0., 0., 0., 0., 0., 0., 0., 0., 0., 0.],\n",
              "         [0., 0., 0., 0., 0., 0., 0., 0., 0., 0.],\n",
              "         [0., 0., 0., 0., 0., 0., 0., 0., 0., 0.]],\n",
              "\n",
              "        [[0., 0., 0., 0., 0., 0., 0., 0., 0., 0.],\n",
              "         [0., 0., 0., 0., 0., 0., 0., 0., 0., 0.],\n",
              "         [0., 0., 0., 0., 0., 0., 0., 0., 0., 0.],\n",
              "         [0., 0., 0., 0., 0., 0., 0., 0., 0., 0.],\n",
              "         [0., 0., 0., 0., 0., 0., 0., 0., 0., 0.],\n",
              "         [0., 0., 0., 0., 0., 0., 0., 0., 0., 0.],\n",
              "         [0., 0., 0., 0., 0., 0., 0., 0., 0., 0.],\n",
              "         [0., 0., 0., 0., 0., 0., 0., 0., 0., 0.],\n",
              "         [0., 0., 0., 0., 0., 0., 0., 0., 0., 0.],\n",
              "         [0., 0., 0., 0., 0., 0., 0., 0., 0., 0.]],\n",
              "\n",
              "        [[0., 0., 0., 0., 0., 0., 0., 0., 0., 0.],\n",
              "         [0., 0., 0., 0., 0., 0., 0., 0., 0., 0.],\n",
              "         [0., 0., 0., 0., 0., 0., 0., 0., 0., 0.],\n",
              "         [0., 0., 0., 0., 0., 0., 0., 0., 0., 0.],\n",
              "         [0., 0., 0., 0., 0., 0., 0., 0., 0., 0.],\n",
              "         [0., 0., 0., 0., 0., 0., 0., 0., 0., 0.],\n",
              "         [0., 0., 0., 0., 0., 0., 0., 0., 0., 0.],\n",
              "         [0., 0., 0., 0., 0., 0., 0., 0., 0., 0.],\n",
              "         [0., 0., 0., 0., 0., 0., 0., 0., 0., 0.],\n",
              "         [0., 0., 0., 0., 0., 0., 0., 0., 0., 0.]]])"
            ]
          },
          "metadata": {},
          "execution_count": 23
        }
      ]
    },
    {
      "cell_type": "code",
      "source": [
        "one = torch.ones(size=(3,10,10))\n",
        "one"
      ],
      "metadata": {
        "colab": {
          "base_uri": "https://localhost:8080/"
        },
        "id": "0GMioOCfs_a-",
        "outputId": "1499887a-8a9c-4139-c441-d295e2ce3b0b"
      },
      "execution_count": null,
      "outputs": [
        {
          "output_type": "execute_result",
          "data": {
            "text/plain": [
              "tensor([[[1., 1., 1., 1., 1., 1., 1., 1., 1., 1.],\n",
              "         [1., 1., 1., 1., 1., 1., 1., 1., 1., 1.],\n",
              "         [1., 1., 1., 1., 1., 1., 1., 1., 1., 1.],\n",
              "         [1., 1., 1., 1., 1., 1., 1., 1., 1., 1.],\n",
              "         [1., 1., 1., 1., 1., 1., 1., 1., 1., 1.],\n",
              "         [1., 1., 1., 1., 1., 1., 1., 1., 1., 1.],\n",
              "         [1., 1., 1., 1., 1., 1., 1., 1., 1., 1.],\n",
              "         [1., 1., 1., 1., 1., 1., 1., 1., 1., 1.],\n",
              "         [1., 1., 1., 1., 1., 1., 1., 1., 1., 1.],\n",
              "         [1., 1., 1., 1., 1., 1., 1., 1., 1., 1.]],\n",
              "\n",
              "        [[1., 1., 1., 1., 1., 1., 1., 1., 1., 1.],\n",
              "         [1., 1., 1., 1., 1., 1., 1., 1., 1., 1.],\n",
              "         [1., 1., 1., 1., 1., 1., 1., 1., 1., 1.],\n",
              "         [1., 1., 1., 1., 1., 1., 1., 1., 1., 1.],\n",
              "         [1., 1., 1., 1., 1., 1., 1., 1., 1., 1.],\n",
              "         [1., 1., 1., 1., 1., 1., 1., 1., 1., 1.],\n",
              "         [1., 1., 1., 1., 1., 1., 1., 1., 1., 1.],\n",
              "         [1., 1., 1., 1., 1., 1., 1., 1., 1., 1.],\n",
              "         [1., 1., 1., 1., 1., 1., 1., 1., 1., 1.],\n",
              "         [1., 1., 1., 1., 1., 1., 1., 1., 1., 1.]],\n",
              "\n",
              "        [[1., 1., 1., 1., 1., 1., 1., 1., 1., 1.],\n",
              "         [1., 1., 1., 1., 1., 1., 1., 1., 1., 1.],\n",
              "         [1., 1., 1., 1., 1., 1., 1., 1., 1., 1.],\n",
              "         [1., 1., 1., 1., 1., 1., 1., 1., 1., 1.],\n",
              "         [1., 1., 1., 1., 1., 1., 1., 1., 1., 1.],\n",
              "         [1., 1., 1., 1., 1., 1., 1., 1., 1., 1.],\n",
              "         [1., 1., 1., 1., 1., 1., 1., 1., 1., 1.],\n",
              "         [1., 1., 1., 1., 1., 1., 1., 1., 1., 1.],\n",
              "         [1., 1., 1., 1., 1., 1., 1., 1., 1., 1.],\n",
              "         [1., 1., 1., 1., 1., 1., 1., 1., 1., 1.]]])"
            ]
          },
          "metadata": {},
          "execution_count": 24
        }
      ]
    },
    {
      "cell_type": "code",
      "source": [
        "one * random_tensor"
      ],
      "metadata": {
        "colab": {
          "base_uri": "https://localhost:8080/"
        },
        "id": "n2aqDTN_tXPE",
        "outputId": "60799a87-8fc8-4540-f152-d8f188837759"
      },
      "execution_count": null,
      "outputs": [
        {
          "output_type": "execute_result",
          "data": {
            "text/plain": [
              "tensor([[[0.8711, 0.8341, 0.3252, 0.6131, 0.6589, 0.4531, 0.0486, 0.9062,\n",
              "          0.4909, 0.5676],\n",
              "         [0.1007, 0.5717, 0.8105, 0.1325, 0.9958, 0.6423, 0.6521, 0.8343,\n",
              "          0.4551, 0.5682],\n",
              "         [0.1125, 0.3900, 0.0086, 0.6928, 0.6682, 0.1805, 0.5666, 0.4929,\n",
              "          0.2425, 0.0203],\n",
              "         [0.6876, 0.5462, 0.1086, 0.8718, 0.7564, 0.0030, 0.3746, 0.7974,\n",
              "          0.8156, 0.9049],\n",
              "         [0.4015, 0.0826, 0.7236, 0.9498, 0.3754, 0.5777, 0.5190, 0.7270,\n",
              "          0.6580, 0.6105],\n",
              "         [0.7965, 0.5337, 0.4043, 0.0063, 0.0973, 0.3481, 0.8814, 0.8549,\n",
              "          0.0775, 0.7769],\n",
              "         [0.6226, 0.6555, 0.4563, 0.0602, 0.2398, 0.2209, 0.0265, 0.9684,\n",
              "          0.1240, 0.6129],\n",
              "         [0.0147, 0.6414, 0.7115, 0.4668, 0.3573, 0.2649, 0.3043, 0.5981,\n",
              "          0.0755, 0.7438],\n",
              "         [0.1370, 0.1847, 0.3648, 0.0889, 0.2364, 0.6407, 0.1174, 0.7006,\n",
              "          0.7885, 0.0372],\n",
              "         [0.1531, 0.7383, 0.2187, 0.1738, 0.3278, 0.6657, 0.4234, 0.3905,\n",
              "          0.8742, 0.7392]],\n",
              "\n",
              "        [[0.8907, 0.0146, 0.2894, 0.0137, 0.6081, 0.0879, 0.1467, 0.2058,\n",
              "          0.0227, 0.6336],\n",
              "         [0.6168, 0.0666, 0.3586, 0.2511, 0.2788, 0.6888, 0.9992, 0.9891,\n",
              "          0.2341, 0.5294],\n",
              "         [0.3051, 0.6927, 0.9951, 0.3997, 0.1759, 0.8667, 0.0273, 0.0632,\n",
              "          0.0394, 0.7522],\n",
              "         [0.6161, 0.5692, 0.8521, 0.4797, 0.3569, 0.1515, 0.2449, 0.2155,\n",
              "          0.3809, 0.8773],\n",
              "         [0.8961, 0.1363, 0.6870, 0.1101, 0.4441, 0.5341, 0.5973, 0.3786,\n",
              "          0.4342, 0.5411],\n",
              "         [0.8679, 0.1288, 0.0277, 0.4157, 0.7684, 0.7582, 0.1192, 0.5832,\n",
              "          0.7560, 0.5251],\n",
              "         [0.5286, 0.7454, 0.5665, 0.5842, 0.4586, 0.7026, 0.4228, 0.6280,\n",
              "          0.9042, 0.2299],\n",
              "         [0.4135, 0.3233, 0.7231, 0.3582, 0.7746, 0.1075, 0.5220, 0.2679,\n",
              "          0.4581, 0.8313],\n",
              "         [0.4555, 0.5057, 0.9388, 0.0571, 0.8494, 0.8841, 0.5867, 0.6006,\n",
              "          0.5139, 0.3848],\n",
              "         [0.2743, 0.7127, 0.0145, 0.2427, 0.6529, 0.5266, 0.2058, 0.7835,\n",
              "          0.4212, 0.5077]],\n",
              "\n",
              "        [[0.9176, 0.2766, 0.4286, 0.2348, 0.0384, 0.9780, 0.5771, 0.4388,\n",
              "          0.1004, 0.4221],\n",
              "         [0.7008, 0.2453, 0.5907, 0.2863, 0.1021, 0.8505, 0.7268, 0.3942,\n",
              "          0.9191, 0.2333],\n",
              "         [0.3582, 0.5615, 0.5565, 0.5755, 0.5788, 0.0416, 0.3634, 0.9115,\n",
              "          0.3470, 0.9442],\n",
              "         [0.9540, 0.8974, 0.7366, 0.3281, 0.9454, 0.6006, 0.5235, 0.6181,\n",
              "          0.7055, 0.4998],\n",
              "         [0.1465, 0.8359, 0.1929, 0.6701, 0.0623, 0.3931, 0.6164, 0.6999,\n",
              "          0.7677, 0.9258],\n",
              "         [0.3300, 0.3450, 0.8552, 0.2484, 0.4227, 0.6170, 0.9759, 0.8305,\n",
              "          0.7116, 0.7568],\n",
              "         [0.8607, 0.6879, 0.7267, 0.3778, 0.2138, 0.8388, 0.8146, 0.9745,\n",
              "          0.4774, 0.5788],\n",
              "         [0.8007, 0.3296, 0.0967, 0.6283, 0.8430, 0.7662, 0.7358, 0.5338,\n",
              "          0.9587, 0.8542],\n",
              "         [0.6154, 0.0234, 0.9225, 0.4394, 0.3795, 0.7143, 0.9480, 0.0957,\n",
              "          0.0211, 0.8779],\n",
              "         [0.0896, 0.7402, 0.8183, 0.4334, 0.0415, 0.3984, 0.2288, 0.4653,\n",
              "          0.2852, 0.7535]]])"
            ]
          },
          "metadata": {},
          "execution_count": 25
        }
      ]
    },
    {
      "cell_type": "code",
      "source": [
        "#range of tensors\n",
        "torch.range(0,10) #range is going to be deprecated"
      ],
      "metadata": {
        "colab": {
          "base_uri": "https://localhost:8080/"
        },
        "id": "D02NAJ_Rtju9",
        "outputId": "4f182339-aeab-4dee-ded3-226dddf75ca0"
      },
      "execution_count": null,
      "outputs": [
        {
          "output_type": "stream",
          "name": "stderr",
          "text": [
            "<ipython-input-26-6d8ae4469e9c>:2: UserWarning: torch.range is deprecated and will be removed in a future release because its behavior is inconsistent with Python's range builtin. Instead, use torch.arange, which produces values in [start, end).\n",
            "  torch.range(0,10) #range is going to be deprecated\n"
          ]
        },
        {
          "output_type": "execute_result",
          "data": {
            "text/plain": [
              "tensor([ 0.,  1.,  2.,  3.,  4.,  5.,  6.,  7.,  8.,  9., 10.])"
            ]
          },
          "metadata": {},
          "execution_count": 26
        }
      ]
    },
    {
      "cell_type": "code",
      "source": [
        "torch.arange(0,10)"
      ],
      "metadata": {
        "colab": {
          "base_uri": "https://localhost:8080/"
        },
        "id": "u5ZI36l1tzcT",
        "outputId": "b19f8e4a-a182-4649-c801-2700838c80c3"
      },
      "execution_count": null,
      "outputs": [
        {
          "output_type": "execute_result",
          "data": {
            "text/plain": [
              "tensor([0, 1, 2, 3, 4, 5, 6, 7, 8, 9])"
            ]
          },
          "metadata": {},
          "execution_count": 27
        }
      ]
    },
    {
      "cell_type": "code",
      "source": [
        "torch.arange(5,50,4)"
      ],
      "metadata": {
        "colab": {
          "base_uri": "https://localhost:8080/"
        },
        "id": "O-lr4Szzt7EN",
        "outputId": "15e827de-257b-4cbd-a7ef-55c1a92ecac7"
      },
      "execution_count": null,
      "outputs": [
        {
          "output_type": "execute_result",
          "data": {
            "text/plain": [
              "tensor([ 5,  9, 13, 17, 21, 25, 29, 33, 37, 41, 45, 49])"
            ]
          },
          "metadata": {},
          "execution_count": 28
        }
      ]
    },
    {
      "cell_type": "code",
      "source": [
        "torch.arange(end=500,start=50,step=14)"
      ],
      "metadata": {
        "colab": {
          "base_uri": "https://localhost:8080/"
        },
        "id": "HoR24go3uFHr",
        "outputId": "5fde5dd2-56e1-4ee5-8d3e-0311431f0f37"
      },
      "execution_count": null,
      "outputs": [
        {
          "output_type": "execute_result",
          "data": {
            "text/plain": [
              "tensor([ 50,  64,  78,  92, 106, 120, 134, 148, 162, 176, 190, 204, 218, 232,\n",
              "        246, 260, 274, 288, 302, 316, 330, 344, 358, 372, 386, 400, 414, 428,\n",
              "        442, 456, 470, 484, 498])"
            ]
          },
          "metadata": {},
          "execution_count": 29
        }
      ]
    },
    {
      "cell_type": "code",
      "source": [
        "fifty_to_fiveh =torch.arange(end=500,start=50,step=14)"
      ],
      "metadata": {
        "id": "WT2mwH6ou32U"
      },
      "execution_count": null,
      "outputs": []
    },
    {
      "cell_type": "code",
      "source": [
        "#tensor like creating a tensor to similar tensor already defined\n",
        "ten_zeros = torch.zeros_like(input=fifty_to_fiveh)\n",
        "ten_zeros"
      ],
      "metadata": {
        "colab": {
          "base_uri": "https://localhost:8080/"
        },
        "id": "QJZAu0qMuOPr",
        "outputId": "0407da8e-4dcc-4d7c-eab3-4b498957e971"
      },
      "execution_count": null,
      "outputs": [
        {
          "output_type": "execute_result",
          "data": {
            "text/plain": [
              "tensor([0, 0, 0, 0, 0, 0, 0, 0, 0, 0, 0, 0, 0, 0, 0, 0, 0, 0, 0, 0, 0, 0, 0, 0,\n",
              "        0, 0, 0, 0, 0, 0, 0, 0, 0])"
            ]
          },
          "metadata": {},
          "execution_count": 31
        }
      ]
    },
    {
      "cell_type": "markdown",
      "source": [
        "#tensor data types"
      ],
      "metadata": {
        "id": "y49n7n46MRDR"
      }
    },
    {
      "cell_type": "code",
      "source": [
        "# float 32 tensor\n",
        "float_32_tensor = torch.tensor([3.0,6.0,9.0])\n",
        "float_32_tensor"
      ],
      "metadata": {
        "colab": {
          "base_uri": "https://localhost:8080/"
        },
        "id": "f_1kOgVsvDoZ",
        "outputId": "49bf78fe-c389-415b-f926-ff49e79c0a96"
      },
      "execution_count": null,
      "outputs": [
        {
          "output_type": "execute_result",
          "data": {
            "text/plain": [
              "tensor([3., 6., 9.])"
            ]
          },
          "metadata": {},
          "execution_count": 32
        }
      ]
    },
    {
      "cell_type": "code",
      "source": [
        "float_32_tensor.dtype"
      ],
      "metadata": {
        "colab": {
          "base_uri": "https://localhost:8080/"
        },
        "id": "i-_uAIYWvVqk",
        "outputId": "b4c42781-5f67-44ba-d762-7065e6666474"
      },
      "execution_count": null,
      "outputs": [
        {
          "output_type": "execute_result",
          "data": {
            "text/plain": [
              "torch.float32"
            ]
          },
          "metadata": {},
          "execution_count": 33
        }
      ]
    },
    {
      "cell_type": "code",
      "source": [
        "float_32_int = torch.tensor([3,6,9])\n",
        "float_32_int\n"
      ],
      "metadata": {
        "colab": {
          "base_uri": "https://localhost:8080/"
        },
        "id": "kq6U6lFmMX3S",
        "outputId": "ae5da751-5709-4a4a-8ccf-aad0ae64e635"
      },
      "execution_count": null,
      "outputs": [
        {
          "output_type": "execute_result",
          "data": {
            "text/plain": [
              "tensor([3, 6, 9])"
            ]
          },
          "metadata": {},
          "execution_count": 34
        }
      ]
    },
    {
      "cell_type": "code",
      "source": [
        "float_32_int.dtype"
      ],
      "metadata": {
        "colab": {
          "base_uri": "https://localhost:8080/"
        },
        "id": "AOaemIAXMj7I",
        "outputId": "93f3e7d6-3e4f-4a98-957c-59a677304c81"
      },
      "execution_count": null,
      "outputs": [
        {
          "output_type": "execute_result",
          "data": {
            "text/plain": [
              "torch.int64"
            ]
          },
          "metadata": {},
          "execution_count": 35
        }
      ]
    },
    {
      "cell_type": "markdown",
      "source": [
        "by default, for decimal in tensor the default datatype is float 32 and for integer it is int64"
      ],
      "metadata": {
        "id": "0WVlmX0WMpJE"
      }
    },
    {
      "cell_type": "code",
      "source": [
        "float_16_tensor = torch.tensor([3.0,6.0],dtype=torch.\n",
        "float16)\n",
        "float_16_tensor.dtype\n",
        "#by default the data type is 32 and we can specify the datatype to be used in arguments"
      ],
      "metadata": {
        "colab": {
          "base_uri": "https://localhost:8080/"
        },
        "id": "lm44mZjEvXuR",
        "outputId": "035b2899-0450-40e0-d11d-7eaa7f523dbe"
      },
      "execution_count": null,
      "outputs": [
        {
          "output_type": "execute_result",
          "data": {
            "text/plain": [
              "torch.float16"
            ]
          },
          "metadata": {},
          "execution_count": 36
        }
      ]
    },
    {
      "cell_type": "code",
      "source": [
        "float_16_tensor = torch.tensor([3.0,6.0],dtype=None,device=None,requires_grad=False)\n",
        "float_16_tensor.dtype"
      ],
      "metadata": {
        "colab": {
          "base_uri": "https://localhost:8080/"
        },
        "id": "SYLYpO2vxLV1",
        "outputId": "4ae79693-977f-40eb-b082-660ea7681e62"
      },
      "execution_count": null,
      "outputs": [
        {
          "output_type": "execute_result",
          "data": {
            "text/plain": [
              "torch.float32"
            ]
          },
          "metadata": {},
          "execution_count": 37
        }
      ]
    },
    {
      "cell_type": "code",
      "source": [
        "# to convert a tensor datatype into another\n",
        "float_16_tensor1 = float_32_tensor.type(torch.half)  #its same as float 16\n",
        "float_16_tensor1"
      ],
      "metadata": {
        "colab": {
          "base_uri": "https://localhost:8080/"
        },
        "id": "7PXK93UDN-Jr",
        "outputId": "0e0cd261-ae06-4221-dde1-8e86d739c754"
      },
      "execution_count": null,
      "outputs": [
        {
          "output_type": "execute_result",
          "data": {
            "text/plain": [
              "tensor([3., 6., 9.], dtype=torch.float16)"
            ]
          },
          "metadata": {},
          "execution_count": 38
        }
      ]
    },
    {
      "cell_type": "markdown",
      "source": [
        "tensor operations - add, sub, mult(normal element wise), div, matrix mul(dot product)"
      ],
      "metadata": {
        "id": "PG1coKGuQRFk"
      }
    },
    {
      "cell_type": "code",
      "source": [
        "new_tensor = torch.tensor([3,6,9])\n",
        "print(new_tensor)\n",
        "new_tensor + 100\n"
      ],
      "metadata": {
        "colab": {
          "base_uri": "https://localhost:8080/"
        },
        "id": "wxzSEqYWQcu_",
        "outputId": "a2ee087a-abd3-4b2f-d7b7-20578209403a"
      },
      "execution_count": null,
      "outputs": [
        {
          "output_type": "stream",
          "name": "stdout",
          "text": [
            "tensor([3, 6, 9])\n"
          ]
        },
        {
          "output_type": "execute_result",
          "data": {
            "text/plain": [
              "tensor([103, 106, 109])"
            ]
          },
          "metadata": {},
          "execution_count": 39
        }
      ]
    },
    {
      "cell_type": "code",
      "source": [
        "print(new_tensor) # so performing operations doesn't change the original tensor so you might have to assign it\n",
        "# to a new variable"
      ],
      "metadata": {
        "colab": {
          "base_uri": "https://localhost:8080/"
        },
        "id": "391BaBYMQmFX",
        "outputId": "5efd952f-c9a0-4a92-c53a-f5c5a2339c2a"
      },
      "execution_count": null,
      "outputs": [
        {
          "output_type": "stream",
          "name": "stdout",
          "text": [
            "tensor([3, 6, 9])\n"
          ]
        }
      ]
    },
    {
      "cell_type": "code",
      "source": [
        "#built in functions\n",
        "torch.mul(new_tensor,10)"
      ],
      "metadata": {
        "colab": {
          "base_uri": "https://localhost:8080/"
        },
        "id": "hsBlFNOASGRa",
        "outputId": "40321b80-3dc4-4f97-8fc2-91d208d3a65f"
      },
      "execution_count": null,
      "outputs": [
        {
          "output_type": "execute_result",
          "data": {
            "text/plain": [
              "tensor([30, 60, 90])"
            ]
          },
          "metadata": {},
          "execution_count": 41
        }
      ]
    },
    {
      "cell_type": "code",
      "source": [
        "torch.add(new_tensor,50)"
      ],
      "metadata": {
        "colab": {
          "base_uri": "https://localhost:8080/"
        },
        "id": "nDGtVsbMTrfz",
        "outputId": "acb581af-8a33-48f9-96c1-7e70471c58ed"
      },
      "execution_count": null,
      "outputs": [
        {
          "output_type": "execute_result",
          "data": {
            "text/plain": [
              "tensor([53, 56, 59])"
            ]
          },
          "metadata": {},
          "execution_count": 42
        }
      ]
    },
    {
      "cell_type": "code",
      "source": [
        "#element wise multiplication\n",
        "\n",
        "print(new_tensor , \"*\", new_tensor)\n",
        "print(f\"Equals: {new_tensor * new_tensor} \")"
      ],
      "metadata": {
        "colab": {
          "base_uri": "https://localhost:8080/"
        },
        "id": "X-vXxBB2T0Z8",
        "outputId": "df22667c-2359-4f72-838c-c1b30238615f"
      },
      "execution_count": null,
      "outputs": [
        {
          "output_type": "stream",
          "name": "stdout",
          "text": [
            "tensor([3, 6, 9]) * tensor([3, 6, 9])\n",
            "Equals: tensor([ 9, 36, 81]) \n"
          ]
        }
      ]
    },
    {
      "cell_type": "code",
      "source": [
        "# matrix multiplication\n",
        "torch.matmul(new_tensor,new_tensor)"
      ],
      "metadata": {
        "colab": {
          "base_uri": "https://localhost:8080/"
        },
        "id": "P9j5-rBNVtI2",
        "outputId": "f80dc8e6-9f90-45e2-a004-ca2dc8cebdac"
      },
      "execution_count": null,
      "outputs": [
        {
          "output_type": "execute_result",
          "data": {
            "text/plain": [
              "tensor(126)"
            ]
          },
          "metadata": {},
          "execution_count": 44
        }
      ]
    },
    {
      "cell_type": "markdown",
      "source": [
        "builtin methods use much less time when performing operations"
      ],
      "metadata": {
        "id": "37CoEqoHXDxV"
      }
    },
    {
      "cell_type": "code",
      "source": [
        "%%time\n",
        "value = 0\n",
        "for i in range(len(new_tensor)):\n",
        "  value += new_tensor[i] * new_tensor[i]\n",
        "print(value)"
      ],
      "metadata": {
        "colab": {
          "base_uri": "https://localhost:8080/"
        },
        "id": "VrpcIEXLV9SL",
        "outputId": "a928cbb5-0257-47a7-9bbf-d96c4f0c8555"
      },
      "execution_count": null,
      "outputs": [
        {
          "output_type": "stream",
          "name": "stdout",
          "text": [
            "tensor(126)\n",
            "CPU times: user 1.51 ms, sys: 0 ns, total: 1.51 ms\n",
            "Wall time: 1.53 ms\n"
          ]
        }
      ]
    },
    {
      "cell_type": "code",
      "source": [
        "%%time\n",
        "torch.matmul(new_tensor,new_tensor)"
      ],
      "metadata": {
        "colab": {
          "base_uri": "https://localhost:8080/"
        },
        "id": "wLhbvkMeWuV0",
        "outputId": "f1c2073d-894f-403c-f21a-7b25528d862e"
      },
      "execution_count": null,
      "outputs": [
        {
          "output_type": "stream",
          "name": "stdout",
          "text": [
            "CPU times: user 105 µs, sys: 0 ns, total: 105 µs\n",
            "Wall time: 158 µs\n"
          ]
        },
        {
          "output_type": "execute_result",
          "data": {
            "text/plain": [
              "tensor(126)"
            ]
          },
          "metadata": {},
          "execution_count": 46
        }
      ]
    },
    {
      "cell_type": "code",
      "source": [
        "#shape errors\n",
        "\n",
        "tensor_A = torch.tensor([[1,2],[3,4],[5,6]])\n",
        "\n",
        "tensor_B = torch.tensor([[7,10],[8,11],[1,6]])\n",
        "print(tensor_A.shape,tensor_B.shape)\n",
        "torch.mm(tensor_A,tensor_B)"
      ],
      "metadata": {
        "colab": {
          "base_uri": "https://localhost:8080/",
          "height": 228
        },
        "id": "9yHyEcECXCFG",
        "outputId": "2f499373-feba-4cb4-9614-16b24f25d08e"
      },
      "execution_count": null,
      "outputs": [
        {
          "output_type": "stream",
          "name": "stdout",
          "text": [
            "torch.Size([3, 2]) torch.Size([3, 2])\n"
          ]
        },
        {
          "output_type": "error",
          "ename": "RuntimeError",
          "evalue": "ignored",
          "traceback": [
            "\u001b[0;31m---------------------------------------------------------------------------\u001b[0m",
            "\u001b[0;31mRuntimeError\u001b[0m                              Traceback (most recent call last)",
            "\u001b[0;32m<ipython-input-53-a02064da4e14>\u001b[0m in \u001b[0;36m<cell line: 7>\u001b[0;34m()\u001b[0m\n\u001b[1;32m      5\u001b[0m \u001b[0mtensor_B\u001b[0m \u001b[0;34m=\u001b[0m \u001b[0mtorch\u001b[0m\u001b[0;34m.\u001b[0m\u001b[0mtensor\u001b[0m\u001b[0;34m(\u001b[0m\u001b[0;34m[\u001b[0m\u001b[0;34m[\u001b[0m\u001b[0;36m7\u001b[0m\u001b[0;34m,\u001b[0m\u001b[0;36m10\u001b[0m\u001b[0;34m]\u001b[0m\u001b[0;34m,\u001b[0m\u001b[0;34m[\u001b[0m\u001b[0;36m8\u001b[0m\u001b[0;34m,\u001b[0m\u001b[0;36m11\u001b[0m\u001b[0;34m]\u001b[0m\u001b[0;34m,\u001b[0m\u001b[0;34m[\u001b[0m\u001b[0;36m1\u001b[0m\u001b[0;34m,\u001b[0m\u001b[0;36m6\u001b[0m\u001b[0;34m]\u001b[0m\u001b[0;34m]\u001b[0m\u001b[0;34m)\u001b[0m\u001b[0;34m\u001b[0m\u001b[0;34m\u001b[0m\u001b[0m\n\u001b[1;32m      6\u001b[0m \u001b[0mprint\u001b[0m\u001b[0;34m(\u001b[0m\u001b[0mtensor_A\u001b[0m\u001b[0;34m.\u001b[0m\u001b[0mshape\u001b[0m\u001b[0;34m,\u001b[0m\u001b[0mtensor_B\u001b[0m\u001b[0;34m.\u001b[0m\u001b[0mshape\u001b[0m\u001b[0;34m)\u001b[0m\u001b[0;34m\u001b[0m\u001b[0;34m\u001b[0m\u001b[0m\n\u001b[0;32m----> 7\u001b[0;31m \u001b[0mtorch\u001b[0m\u001b[0;34m.\u001b[0m\u001b[0mmm\u001b[0m\u001b[0;34m(\u001b[0m\u001b[0mtensor_A\u001b[0m\u001b[0;34m,\u001b[0m\u001b[0mtensor_B\u001b[0m\u001b[0;34m)\u001b[0m\u001b[0;34m\u001b[0m\u001b[0;34m\u001b[0m\u001b[0m\n\u001b[0m",
            "\u001b[0;31mRuntimeError\u001b[0m: mat1 and mat2 shapes cannot be multiplied (3x2 and 3x2)"
          ]
        }
      ]
    },
    {
      "cell_type": "code",
      "source": [
        " #fixing shape errors\n",
        "\n",
        " tensor_B.T, tensor_B\n",
        " tensor_B.shape\n",
        " tensor_B.T.shape"
      ],
      "metadata": {
        "colab": {
          "base_uri": "https://localhost:8080/"
        },
        "id": "9msfIIZVNSQG",
        "outputId": "566f57c1-b99f-44e5-e186-25ba51cd822b"
      },
      "execution_count": null,
      "outputs": [
        {
          "output_type": "execute_result",
          "data": {
            "text/plain": [
              "torch.Size([2, 3])"
            ]
          },
          "metadata": {},
          "execution_count": 56
        }
      ]
    },
    {
      "cell_type": "code",
      "source": [
        "print(torch.mm(tensor_A,tensor_B.T))\n",
        "print(torch.mm(tensor_A,tensor_B.T).shape)\n",
        "print(tensor_A.shape,tensor_B.shape)"
      ],
      "metadata": {
        "colab": {
          "base_uri": "https://localhost:8080/"
        },
        "id": "uWx6dit3Ni-l",
        "outputId": "6e333da6-38fe-462c-f8b4-a974174f25c5"
      },
      "execution_count": null,
      "outputs": [
        {
          "output_type": "stream",
          "name": "stdout",
          "text": [
            "tensor([[ 27,  30,  13],\n",
            "        [ 61,  68,  27],\n",
            "        [ 95, 106,  41]])\n",
            "torch.Size([3, 3])\n",
            "torch.Size([3, 2]) torch.Size([3, 2])\n"
          ]
        }
      ]
    },
    {
      "cell_type": "code",
      "source": [
        "#finding min,max,mean,sum etc(tensor aggregation)\n",
        "\n",
        "x = torch.arange(0,100,10)\n",
        "x\n",
        "x.dtype"
      ],
      "metadata": {
        "colab": {
          "base_uri": "https://localhost:8080/"
        },
        "id": "vjnWj6nkQd3O",
        "outputId": "e2c3c1a8-5b79-424c-96cd-d227da44f3bd"
      },
      "execution_count": null,
      "outputs": [
        {
          "output_type": "execute_result",
          "data": {
            "text/plain": [
              "torch.int64"
            ]
          },
          "metadata": {},
          "execution_count": 68
        }
      ]
    },
    {
      "cell_type": "code",
      "source": [
        "torch.min(x)\n",
        "x.min()"
      ],
      "metadata": {
        "colab": {
          "base_uri": "https://localhost:8080/"
        },
        "id": "tROTjYKzRhFb",
        "outputId": "17cafad7-bdd0-4418-89be-e81fc87057ce"
      },
      "execution_count": null,
      "outputs": [
        {
          "output_type": "execute_result",
          "data": {
            "text/plain": [
              "tensor(0)"
            ]
          },
          "metadata": {},
          "execution_count": 64
        }
      ]
    },
    {
      "cell_type": "code",
      "source": [
        "torch.max(x),x.max()"
      ],
      "metadata": {
        "colab": {
          "base_uri": "https://localhost:8080/"
        },
        "id": "m8wVdNjRRsrW",
        "outputId": "8b5221d1-a4e5-43ae-e11e-528170db408e"
      },
      "execution_count": null,
      "outputs": [
        {
          "output_type": "execute_result",
          "data": {
            "text/plain": [
              "(tensor(90), tensor(90))"
            ]
          },
          "metadata": {},
          "execution_count": 66
        }
      ]
    },
    {
      "cell_type": "code",
      "source": [
        "torch.mean(x.type(torch.float32))"
      ],
      "metadata": {
        "colab": {
          "base_uri": "https://localhost:8080/"
        },
        "id": "-zFOTmQ3R0EA",
        "outputId": "464ad82f-3a9e-4f9d-9ec3-d6c85883659a"
      },
      "execution_count": null,
      "outputs": [
        {
          "output_type": "execute_result",
          "data": {
            "text/plain": [
              "tensor(45.)"
            ]
          },
          "metadata": {},
          "execution_count": 76
        }
      ]
    },
    {
      "cell_type": "code",
      "source": [
        "x.type(torch.float32).mean()"
      ],
      "metadata": {
        "colab": {
          "base_uri": "https://localhost:8080/"
        },
        "id": "B7nxXUE7SZaq",
        "outputId": "e5454e6a-3499-4a0e-a0ea-38ef4b447f1d"
      },
      "execution_count": null,
      "outputs": [
        {
          "output_type": "execute_result",
          "data": {
            "text/plain": [
              "tensor(45.)"
            ]
          },
          "metadata": {},
          "execution_count": 80
        }
      ]
    },
    {
      "cell_type": "code",
      "source": [
        "#finding the positional min and max\n",
        "\n",
        "x"
      ],
      "metadata": {
        "colab": {
          "base_uri": "https://localhost:8080/"
        },
        "id": "pYxGQJ1ZSeO-",
        "outputId": "f25943ce-ae21-4ee5-da02-4baf8806b831"
      },
      "execution_count": null,
      "outputs": [
        {
          "output_type": "execute_result",
          "data": {
            "text/plain": [
              "tensor([ 0, 10, 20, 30, 40, 50, 60, 70, 80, 90])"
            ]
          },
          "metadata": {},
          "execution_count": 81
        }
      ]
    },
    {
      "cell_type": "code",
      "source": [
        "x.argmin() #find the position(index) of minimum of tensor"
      ],
      "metadata": {
        "colab": {
          "base_uri": "https://localhost:8080/"
        },
        "id": "9500lJsmS6fs",
        "outputId": "f7eb251c-c829-4939-a480-b0e39b5fbe56"
      },
      "execution_count": null,
      "outputs": [
        {
          "output_type": "execute_result",
          "data": {
            "text/plain": [
              "tensor(0)"
            ]
          },
          "metadata": {},
          "execution_count": 83
        }
      ]
    },
    {
      "cell_type": "code",
      "source": [
        "x[0]"
      ],
      "metadata": {
        "colab": {
          "base_uri": "https://localhost:8080/"
        },
        "id": "j9yqo5kfS8c_",
        "outputId": "9f419cc3-12ac-4d32-d8a3-fb78a6cb064f"
      },
      "execution_count": null,
      "outputs": [
        {
          "output_type": "execute_result",
          "data": {
            "text/plain": [
              "tensor(0)"
            ]
          },
          "metadata": {},
          "execution_count": 84
        }
      ]
    },
    {
      "cell_type": "code",
      "source": [
        "x.argmax()"
      ],
      "metadata": {
        "colab": {
          "base_uri": "https://localhost:8080/"
        },
        "id": "jBNBayCuS-Gj",
        "outputId": "5ed17c6b-1662-4fbe-ee01-d7e7df2fa89d"
      },
      "execution_count": null,
      "outputs": [
        {
          "output_type": "execute_result",
          "data": {
            "text/plain": [
              "tensor(9)"
            ]
          },
          "metadata": {},
          "execution_count": 85
        }
      ]
    },
    {
      "cell_type": "code",
      "source": [
        "x[9]"
      ],
      "metadata": {
        "colab": {
          "base_uri": "https://localhost:8080/"
        },
        "id": "SNjF9LB2TKwu",
        "outputId": "8a2c0693-100d-4e7e-f813-58b5f5313313"
      },
      "execution_count": null,
      "outputs": [
        {
          "output_type": "execute_result",
          "data": {
            "text/plain": [
              "tensor(90)"
            ]
          },
          "metadata": {},
          "execution_count": 86
        }
      ]
    },
    {
      "cell_type": "code",
      "source": [
        "#reshaping, stacking, squeezing, unsqueezing\n",
        "import torch\n",
        "x = torch.arange(1.,10.)\n",
        "x,x.shape"
      ],
      "metadata": {
        "colab": {
          "base_uri": "https://localhost:8080/"
        },
        "id": "rm_w0r_tTNp8",
        "outputId": "4e9fb2ba-2bce-42a6-b341-8d944434d7bf"
      },
      "execution_count": null,
      "outputs": [
        {
          "output_type": "execute_result",
          "data": {
            "text/plain": [
              "(tensor([1., 2., 3., 4., 5., 6., 7., 8., 9.]), torch.Size([9]))"
            ]
          },
          "metadata": {},
          "execution_count": 117
        }
      ]
    },
    {
      "cell_type": "code",
      "source": [
        "#add extra dimesion\n",
        "x_reshaped = x.reshape(1,9)\n",
        "x_reshaped, x_reshaped.shape"
      ],
      "metadata": {
        "colab": {
          "base_uri": "https://localhost:8080/"
        },
        "id": "8Lm5TmHaUQAW",
        "outputId": "5062d09b-1c34-4833-b208-f04dab33cb19"
      },
      "execution_count": null,
      "outputs": [
        {
          "output_type": "execute_result",
          "data": {
            "text/plain": [
              "(tensor([[1., 2., 3., 4., 5., 6., 7., 8., 9.]]), torch.Size([1, 9]))"
            ]
          },
          "metadata": {},
          "execution_count": 90
        }
      ]
    },
    {
      "cell_type": "code",
      "source": [
        "x_reshaped = x.reshape(9,1)\n",
        "x_reshaped, x_reshaped.shape,x #changes made in reshape is not reflected in x"
      ],
      "metadata": {
        "colab": {
          "base_uri": "https://localhost:8080/"
        },
        "id": "JMC5GpsxUXQ5",
        "outputId": "3f88e2f0-1016-42c0-cd47-c6953cdb45af"
      },
      "execution_count": null,
      "outputs": [
        {
          "output_type": "execute_result",
          "data": {
            "text/plain": [
              "(tensor([[1.],\n",
              "         [2.],\n",
              "         [3.],\n",
              "         [4.],\n",
              "         [5.],\n",
              "         [6.],\n",
              "         [7.],\n",
              "         [8.],\n",
              "         [9.]]),\n",
              " torch.Size([9, 1]),\n",
              " tensor([1., 2., 3., 4., 5., 6., 7., 8., 9.]))"
            ]
          },
          "metadata": {},
          "execution_count": 118
        }
      ]
    },
    {
      "cell_type": "code",
      "source": [
        "x_reshaped = x.reshape(3,2)\n",
        "x_reshaped, x_reshaped.shape"
      ],
      "metadata": {
        "colab": {
          "base_uri": "https://localhost:8080/",
          "height": 193
        },
        "id": "MiCTIP82U0eW",
        "outputId": "d66d48c3-7fb4-4b2f-e1e3-72c0b9cb9031"
      },
      "execution_count": null,
      "outputs": [
        {
          "output_type": "error",
          "ename": "RuntimeError",
          "evalue": "ignored",
          "traceback": [
            "\u001b[0;31m---------------------------------------------------------------------------\u001b[0m",
            "\u001b[0;31mRuntimeError\u001b[0m                              Traceback (most recent call last)",
            "\u001b[0;32m<ipython-input-94-1e7a7410fa0d>\u001b[0m in \u001b[0;36m<cell line: 1>\u001b[0;34m()\u001b[0m\n\u001b[0;32m----> 1\u001b[0;31m \u001b[0mx_reshaped\u001b[0m \u001b[0;34m=\u001b[0m \u001b[0mx\u001b[0m\u001b[0;34m.\u001b[0m\u001b[0mreshape\u001b[0m\u001b[0;34m(\u001b[0m\u001b[0;36m3\u001b[0m\u001b[0;34m,\u001b[0m\u001b[0;36m2\u001b[0m\u001b[0;34m)\u001b[0m\u001b[0;34m\u001b[0m\u001b[0;34m\u001b[0m\u001b[0m\n\u001b[0m\u001b[1;32m      2\u001b[0m \u001b[0mx_reshaped\u001b[0m\u001b[0;34m,\u001b[0m \u001b[0mx_reshaped\u001b[0m\u001b[0;34m.\u001b[0m\u001b[0mshape\u001b[0m\u001b[0;34m\u001b[0m\u001b[0;34m\u001b[0m\u001b[0m\n",
            "\u001b[0;31mRuntimeError\u001b[0m: shape '[3, 2]' is invalid for input of size 9"
          ]
        }
      ]
    },
    {
      "cell_type": "code",
      "source": [
        "#change view\n",
        "z = x.view(1,9)\n",
        "z,z.shape"
      ],
      "metadata": {
        "colab": {
          "base_uri": "https://localhost:8080/"
        },
        "id": "YMhni-_jUuK4",
        "outputId": "a8bcd628-858b-4aff-b98f-36a0ce14114f"
      },
      "execution_count": null,
      "outputs": [
        {
          "output_type": "execute_result",
          "data": {
            "text/plain": [
              "(tensor([[1., 2., 3., 4., 5., 6., 7., 8., 9.]]), torch.Size([1, 9]))"
            ]
          },
          "metadata": {},
          "execution_count": 112
        }
      ]
    },
    {
      "cell_type": "code",
      "source": [
        "#change view\n",
        "z = x.view(9,1)\n",
        "z,z.shape\n",
        "\n",
        "#changing z changes x (view of a tensor shares the same memory as the original input)"
      ],
      "metadata": {
        "colab": {
          "base_uri": "https://localhost:8080/"
        },
        "id": "K7kc-uJkVLmh",
        "outputId": "a4fa0663-e907-4a16-8cab-e3aa3ec7cd07"
      },
      "execution_count": null,
      "outputs": [
        {
          "output_type": "execute_result",
          "data": {
            "text/plain": [
              "(tensor([[1.],\n",
              "         [2.],\n",
              "         [3.],\n",
              "         [4.],\n",
              "         [5.],\n",
              "         [6.],\n",
              "         [7.],\n",
              "         [8.],\n",
              "         [9.]]),\n",
              " torch.Size([9, 1]))"
            ]
          },
          "metadata": {},
          "execution_count": 113
        }
      ]
    },
    {
      "cell_type": "code",
      "source": [
        "z[ 0] = 5\n",
        "z,x #changes in z made the changes in x as seen below"
      ],
      "metadata": {
        "colab": {
          "base_uri": "https://localhost:8080/"
        },
        "id": "aYKSDy3PVaU0",
        "outputId": "effcc3f2-09c8-49de-ef28-923966d814fd"
      },
      "execution_count": null,
      "outputs": [
        {
          "output_type": "execute_result",
          "data": {
            "text/plain": [
              "(tensor([[5.],\n",
              "         [2.],\n",
              "         [3.],\n",
              "         [4.],\n",
              "         [5.],\n",
              "         [6.],\n",
              "         [7.],\n",
              "         [8.],\n",
              "         [9.]]),\n",
              " tensor([5., 2., 3., 4., 5., 6., 7., 8., 9.]))"
            ]
          },
          "metadata": {},
          "execution_count": 114
        }
      ]
    },
    {
      "cell_type": "code",
      "source": [
        " #stack\n",
        " x_stacked = torch.stack([x,x,x,x,x],dim =0)\n",
        " x_stacked,x"
      ],
      "metadata": {
        "colab": {
          "base_uri": "https://localhost:8080/"
        },
        "id": "9oR2XET1VquQ",
        "outputId": "2538b2dd-d332-4686-e4c1-bcaf38e28393"
      },
      "execution_count": null,
      "outputs": [
        {
          "output_type": "execute_result",
          "data": {
            "text/plain": [
              "(tensor([[1., 2., 3., 4., 5., 6., 7., 8., 9.],\n",
              "         [1., 2., 3., 4., 5., 6., 7., 8., 9.],\n",
              "         [1., 2., 3., 4., 5., 6., 7., 8., 9.],\n",
              "         [1., 2., 3., 4., 5., 6., 7., 8., 9.],\n",
              "         [1., 2., 3., 4., 5., 6., 7., 8., 9.]]),\n",
              " tensor([1., 2., 3., 4., 5., 6., 7., 8., 9.]))"
            ]
          },
          "metadata": {},
          "execution_count": 124
        }
      ]
    },
    {
      "cell_type": "code",
      "source": [
        " #stack\n",
        " x_stacked = torch.stack([x,x,x,x,x],dim =1)\n",
        " x_stacked,x"
      ],
      "metadata": {
        "colab": {
          "base_uri": "https://localhost:8080/"
        },
        "id": "Nl_OpnWaXHqo",
        "outputId": "87ac86ad-0244-442d-c016-5951f33440f9"
      },
      "execution_count": null,
      "outputs": [
        {
          "output_type": "execute_result",
          "data": {
            "text/plain": [
              "(tensor([[1., 1., 1., 1., 1.],\n",
              "         [2., 2., 2., 2., 2.],\n",
              "         [3., 3., 3., 3., 3.],\n",
              "         [4., 4., 4., 4., 4.],\n",
              "         [5., 5., 5., 5., 5.],\n",
              "         [6., 6., 6., 6., 6.],\n",
              "         [7., 7., 7., 7., 7.],\n",
              "         [8., 8., 8., 8., 8.],\n",
              "         [9., 9., 9., 9., 9.]]),\n",
              " tensor([1., 2., 3., 4., 5., 6., 7., 8., 9.]))"
            ]
          },
          "metadata": {},
          "execution_count": 125
        }
      ]
    },
    {
      "cell_type": "code",
      "source": [
        "#squeeze - removes single dimension from all tensors\n",
        "x_reshaped.shape"
      ],
      "metadata": {
        "colab": {
          "base_uri": "https://localhost:8080/"
        },
        "id": "OkbuLad_XTsV",
        "outputId": "13536cce-b1f7-4515-e4d4-317e60385947"
      },
      "execution_count": null,
      "outputs": [
        {
          "output_type": "execute_result",
          "data": {
            "text/plain": [
              "torch.Size([9, 1])"
            ]
          },
          "metadata": {},
          "execution_count": 126
        }
      ]
    },
    {
      "cell_type": "code",
      "source": [
        "x_reshaped,x_reshaped.shape"
      ],
      "metadata": {
        "colab": {
          "base_uri": "https://localhost:8080/"
        },
        "id": "KW4gSE42XonC",
        "outputId": "ce1f8513-9663-44bb-b70a-4774c1754d7b"
      },
      "execution_count": null,
      "outputs": [
        {
          "output_type": "execute_result",
          "data": {
            "text/plain": [
              "(tensor([[1.],\n",
              "         [2.],\n",
              "         [3.],\n",
              "         [4.],\n",
              "         [5.],\n",
              "         [6.],\n",
              "         [7.],\n",
              "         [8.],\n",
              "         [9.]]),\n",
              " torch.Size([9, 1]))"
            ]
          },
          "metadata": {},
          "execution_count": 132
        }
      ]
    },
    {
      "cell_type": "code",
      "source": [
        "x_reshaped.squeeze(),x_reshaped.squeeze().shape"
      ],
      "metadata": {
        "colab": {
          "base_uri": "https://localhost:8080/"
        },
        "id": "EN2XLnGXXqAp",
        "outputId": "a72fa790-838d-4db3-8a25-015b006ec72b"
      },
      "execution_count": null,
      "outputs": [
        {
          "output_type": "execute_result",
          "data": {
            "text/plain": [
              "(tensor([1., 2., 3., 4., 5., 6., 7., 8., 9.]), torch.Size([9]))"
            ]
          },
          "metadata": {},
          "execution_count": 131
        }
      ]
    },
    {
      "cell_type": "code",
      "source": [
        "x_reshaped_squeezed = x_reshaped.squeeze()\n",
        "x_reshaped_squeezed"
      ],
      "metadata": {
        "colab": {
          "base_uri": "https://localhost:8080/"
        },
        "id": "1TUqR_e4Xz03",
        "outputId": "3fd0e280-9ba3-4c89-ab7a-6f5d3a6387c1"
      },
      "execution_count": null,
      "outputs": [
        {
          "output_type": "execute_result",
          "data": {
            "text/plain": [
              "tensor([1., 2., 3., 4., 5., 6., 7., 8., 9.])"
            ]
          },
          "metadata": {},
          "execution_count": 133
        }
      ]
    },
    {
      "cell_type": "code",
      "source": [
        "x_reshaped_squeezed.unsqueeze(dim=0),x_reshaped_squeezed.unsqueeze(dim=0).shape"
      ],
      "metadata": {
        "colab": {
          "base_uri": "https://localhost:8080/"
        },
        "id": "32-Hprb9YGmo",
        "outputId": "1fa4cf62-63d4-4c4e-ea21-612637178c68"
      },
      "execution_count": null,
      "outputs": [
        {
          "output_type": "execute_result",
          "data": {
            "text/plain": [
              "(tensor([[1., 2., 3., 4., 5., 6., 7., 8., 9.]]), torch.Size([1, 9]))"
            ]
          },
          "metadata": {},
          "execution_count": 141
        }
      ]
    },
    {
      "cell_type": "code",
      "source": [
        "x_reshaped_squeezed.unsqueeze(dim=1),x_reshaped_squeezed.unsqueeze(dim=1).shape"
      ],
      "metadata": {
        "colab": {
          "base_uri": "https://localhost:8080/"
        },
        "id": "u9WJmUyUYzSi",
        "outputId": "3d7c358f-d542-4ec4-b7d7-d7ab82d9fc95"
      },
      "execution_count": null,
      "outputs": [
        {
          "output_type": "execute_result",
          "data": {
            "text/plain": [
              "(tensor([[1.],\n",
              "         [2.],\n",
              "         [3.],\n",
              "         [4.],\n",
              "         [5.],\n",
              "         [6.],\n",
              "         [7.],\n",
              "         [8.],\n",
              "         [9.]]),\n",
              " torch.Size([9, 1]))"
            ]
          },
          "metadata": {},
          "execution_count": 142
        }
      ]
    },
    {
      "cell_type": "code",
      "source": [
        "#permute          most used with image data\n",
        "x_original = torch.rand(size=(224,224,3))\n",
        "\n",
        "x_original\n"
      ],
      "metadata": {
        "colab": {
          "base_uri": "https://localhost:8080/"
        },
        "id": "oyxC_m99ZBIA",
        "outputId": "6fc16d86-e57b-496b-80c5-90b3453b6988"
      },
      "execution_count": null,
      "outputs": [
        {
          "output_type": "execute_result",
          "data": {
            "text/plain": [
              "tensor([[[0.2964, 0.9188, 0.3526],\n",
              "         [0.2729, 0.2344, 0.5967],\n",
              "         [0.0307, 0.0925, 0.1697],\n",
              "         ...,\n",
              "         [0.9159, 0.6256, 0.9797],\n",
              "         [0.5229, 0.6434, 0.5215],\n",
              "         [0.5458, 0.3866, 0.5081]],\n",
              "\n",
              "        [[0.9813, 0.4597, 0.3243],\n",
              "         [0.9447, 0.4405, 0.1287],\n",
              "         [0.2380, 0.9788, 0.9724],\n",
              "         ...,\n",
              "         [0.0865, 0.6846, 0.0880],\n",
              "         [0.8300, 0.4479, 0.7958],\n",
              "         [0.2574, 0.1090, 0.3494]],\n",
              "\n",
              "        [[0.6362, 0.0444, 0.9243],\n",
              "         [0.3962, 0.3914, 0.6184],\n",
              "         [0.9187, 0.9129, 0.4284],\n",
              "         ...,\n",
              "         [0.6772, 0.8058, 0.2182],\n",
              "         [0.6366, 0.8442, 0.4912],\n",
              "         [0.0619, 0.2651, 0.2396]],\n",
              "\n",
              "        ...,\n",
              "\n",
              "        [[0.4045, 0.3324, 0.7084],\n",
              "         [0.4121, 0.3869, 0.9352],\n",
              "         [0.9256, 0.9843, 0.2334],\n",
              "         ...,\n",
              "         [0.6872, 0.5890, 0.6625],\n",
              "         [0.8620, 0.8172, 0.1121],\n",
              "         [0.2213, 0.3219, 0.0577]],\n",
              "\n",
              "        [[0.4094, 0.6924, 0.3956],\n",
              "         [0.9584, 0.9652, 0.0816],\n",
              "         [0.8472, 0.0969, 0.0634],\n",
              "         ...,\n",
              "         [0.1299, 0.4311, 0.3218],\n",
              "         [0.3588, 0.9106, 0.0114],\n",
              "         [0.7110, 0.9683, 0.2181]],\n",
              "\n",
              "        [[0.9886, 0.5908, 0.3639],\n",
              "         [0.2700, 0.7940, 0.6719],\n",
              "         [0.2460, 0.6979, 0.2187],\n",
              "         ...,\n",
              "         [0.8486, 0.9159, 0.6566],\n",
              "         [0.3827, 0.9940, 0.0534],\n",
              "         [0.4878, 0.5616, 0.6961]]])"
            ]
          },
          "metadata": {},
          "execution_count": 144
        }
      ]
    },
    {
      "cell_type": "code",
      "source": [
        "x_permuted = x_original.permute(2,0,1)\n",
        "x_permuted"
      ],
      "metadata": {
        "colab": {
          "base_uri": "https://localhost:8080/"
        },
        "id": "-l6140qNZnog",
        "outputId": "67a5d2de-93b9-4bc0-b4f6-71104c1636c8"
      },
      "execution_count": null,
      "outputs": [
        {
          "output_type": "execute_result",
          "data": {
            "text/plain": [
              "tensor([[[0.2964, 0.2729, 0.0307,  ..., 0.9159, 0.5229, 0.5458],\n",
              "         [0.9813, 0.9447, 0.2380,  ..., 0.0865, 0.8300, 0.2574],\n",
              "         [0.6362, 0.3962, 0.9187,  ..., 0.6772, 0.6366, 0.0619],\n",
              "         ...,\n",
              "         [0.4045, 0.4121, 0.9256,  ..., 0.6872, 0.8620, 0.2213],\n",
              "         [0.4094, 0.9584, 0.8472,  ..., 0.1299, 0.3588, 0.7110],\n",
              "         [0.9886, 0.2700, 0.2460,  ..., 0.8486, 0.3827, 0.4878]],\n",
              "\n",
              "        [[0.9188, 0.2344, 0.0925,  ..., 0.6256, 0.6434, 0.3866],\n",
              "         [0.4597, 0.4405, 0.9788,  ..., 0.6846, 0.4479, 0.1090],\n",
              "         [0.0444, 0.3914, 0.9129,  ..., 0.8058, 0.8442, 0.2651],\n",
              "         ...,\n",
              "         [0.3324, 0.3869, 0.9843,  ..., 0.5890, 0.8172, 0.3219],\n",
              "         [0.6924, 0.9652, 0.0969,  ..., 0.4311, 0.9106, 0.9683],\n",
              "         [0.5908, 0.7940, 0.6979,  ..., 0.9159, 0.9940, 0.5616]],\n",
              "\n",
              "        [[0.3526, 0.5967, 0.1697,  ..., 0.9797, 0.5215, 0.5081],\n",
              "         [0.3243, 0.1287, 0.9724,  ..., 0.0880, 0.7958, 0.3494],\n",
              "         [0.9243, 0.6184, 0.4284,  ..., 0.2182, 0.4912, 0.2396],\n",
              "         ...,\n",
              "         [0.7084, 0.9352, 0.2334,  ..., 0.6625, 0.1121, 0.0577],\n",
              "         [0.3956, 0.0816, 0.0634,  ..., 0.3218, 0.0114, 0.2181],\n",
              "         [0.3639, 0.6719, 0.2187,  ..., 0.6566, 0.0534, 0.6961]]])"
            ]
          },
          "metadata": {},
          "execution_count": 146
        }
      ]
    },
    {
      "cell_type": "code",
      "source": [
        "x_original.shape,x_permuted.shape  #view has changed, permuted uses same memory as original like view"
      ],
      "metadata": {
        "colab": {
          "base_uri": "https://localhost:8080/"
        },
        "id": "qd5Stk6lZt4C",
        "outputId": "71154116-eab6-45c1-85c1-d0f54cb8ebd9"
      },
      "execution_count": null,
      "outputs": [
        {
          "output_type": "execute_result",
          "data": {
            "text/plain": [
              "(torch.Size([224, 224, 3]), torch.Size([3, 224, 224]))"
            ]
          },
          "metadata": {},
          "execution_count": 147
        }
      ]
    },
    {
      "cell_type": "code",
      "source": [
        "import torch\n",
        "import numpy as np\n",
        "\n",
        "array = np.arange(1.0,8.0)\n",
        "print(array.dtype)\n",
        "tensor = torch.from_numpy(array)\n",
        "array,tensor"
      ],
      "metadata": {
        "colab": {
          "base_uri": "https://localhost:8080/"
        },
        "id": "zhNkcb7NaBWQ",
        "outputId": "54c9e2e7-37c1-40a5-b191-5dc425576c48"
      },
      "execution_count": null,
      "outputs": [
        {
          "output_type": "stream",
          "name": "stdout",
          "text": [
            "float64\n"
          ]
        },
        {
          "output_type": "execute_result",
          "data": {
            "text/plain": [
              "(array([1., 2., 3., 4., 5., 6., 7.]),\n",
              " tensor([1., 2., 3., 4., 5., 6., 7.], dtype=torch.float64))"
            ]
          },
          "metadata": {},
          "execution_count": 150
        }
      ]
    },
    {
      "cell_type": "code",
      "source": [
        "#numpy default datatype is float64 and torch is float 32"
      ],
      "metadata": {
        "id": "vUTl4iihhwM_"
      },
      "execution_count": null,
      "outputs": []
    },
    {
      "cell_type": "code",
      "source": [
        "torch.arange(1.0,8.0).dtype"
      ],
      "metadata": {
        "colab": {
          "base_uri": "https://localhost:8080/"
        },
        "id": "dz0IUcBFh2zb",
        "outputId": "42805929-78d5-4b19-8a63-b85ea3f83a79"
      },
      "execution_count": null,
      "outputs": [
        {
          "output_type": "execute_result",
          "data": {
            "text/plain": [
              "torch.float32"
            ]
          },
          "metadata": {},
          "execution_count": 149
        }
      ]
    },
    {
      "cell_type": "code",
      "source": [
        "array = array +1\n",
        "array,tensor           #changing array doesn't change tensor by default, we have to change it every time"
      ],
      "metadata": {
        "colab": {
          "base_uri": "https://localhost:8080/"
        },
        "id": "4wF-IV-tiMih",
        "outputId": "53d49241-7054-4d7c-bb9c-d122324225c7"
      },
      "execution_count": null,
      "outputs": [
        {
          "output_type": "execute_result",
          "data": {
            "text/plain": [
              "(array([2., 3., 4., 5., 6., 7., 8.]),\n",
              " tensor([1., 2., 3., 4., 5., 6., 7.], dtype=torch.float64))"
            ]
          },
          "metadata": {},
          "execution_count": 151
        }
      ]
    },
    {
      "cell_type": "code",
      "source": [
        "#tensor to numpy\n",
        "tensor = torch.ones(7)\n",
        "print(tensor)\n",
        "numpy_tensor = tensor.numpy()\n",
        "tensor,numpy_tensor\n"
      ],
      "metadata": {
        "colab": {
          "base_uri": "https://localhost:8080/"
        },
        "id": "DmsCdPTaiZ-y",
        "outputId": "b5fefa05-0979-455d-dc1c-1d9ec2a7095a"
      },
      "execution_count": null,
      "outputs": [
        {
          "output_type": "stream",
          "name": "stdout",
          "text": [
            "tensor([1., 1., 1., 1., 1., 1., 1.])\n"
          ]
        },
        {
          "output_type": "execute_result",
          "data": {
            "text/plain": [
              "(tensor([1., 1., 1., 1., 1., 1., 1.]),\n",
              " array([1., 1., 1., 1., 1., 1., 1.], dtype=float32))"
            ]
          },
          "metadata": {},
          "execution_count": 152
        }
      ]
    },
    {
      "cell_type": "code",
      "source": [
        "numpy_tensor.dtype #orginal datatype will remain even after converting"
      ],
      "metadata": {
        "colab": {
          "base_uri": "https://localhost:8080/"
        },
        "id": "ZDfMrXOkimCe",
        "outputId": "fa0768c8-39c2-4b01-82c1-40a44dd74810"
      },
      "execution_count": null,
      "outputs": [
        {
          "output_type": "execute_result",
          "data": {
            "text/plain": [
              "dtype('float32')"
            ]
          },
          "metadata": {},
          "execution_count": 153
        }
      ]
    },
    {
      "cell_type": "code",
      "source": [
        "tensor = tensor + 1\n",
        "tensor, numpy_tensor"
      ],
      "metadata": {
        "colab": {
          "base_uri": "https://localhost:8080/"
        },
        "id": "YiOqPerNipFu",
        "outputId": "d6788126-a92b-4ce4-fced-348d9386c48f"
      },
      "execution_count": null,
      "outputs": [
        {
          "output_type": "execute_result",
          "data": {
            "text/plain": [
              "(tensor([3., 3., 3., 3., 3., 3., 3.]),\n",
              " array([1., 1., 1., 1., 1., 1., 1.], dtype=float32))"
            ]
          },
          "metadata": {},
          "execution_count": 155
        }
      ]
    },
    {
      "cell_type": "code",
      "source": [
        "#reproducibility (taking random out of random)\n",
        "torch.rand(3,3)\n",
        "\n"
      ],
      "metadata": {
        "colab": {
          "base_uri": "https://localhost:8080/"
        },
        "id": "aNWVaWEvi0Qq",
        "outputId": "00fc4877-c120-4af5-e077-8dcd5650a5c7"
      },
      "execution_count": null,
      "outputs": [
        {
          "output_type": "execute_result",
          "data": {
            "text/plain": [
              "tensor([[0.4213, 0.5777, 0.6606],\n",
              "        [0.6743, 0.6847, 0.5628],\n",
              "        [0.1171, 0.7167, 0.3016]])"
            ]
          },
          "metadata": {},
          "execution_count": 157
        }
      ]
    },
    {
      "cell_type": "code",
      "source": [
        "random_tensorA = torch.rand(3,4)\n",
        "random_tensorB = torch.rand(3,4)\n",
        "print(random_tensorA,random_tensorB)\n",
        "print(random_tensorA == random_tensorB)"
      ],
      "metadata": {
        "colab": {
          "base_uri": "https://localhost:8080/"
        },
        "id": "TeFfDFGNj3Et",
        "outputId": "c566780f-ffab-4fa4-d614-d4a6d6d5261c"
      },
      "execution_count": null,
      "outputs": [
        {
          "output_type": "stream",
          "name": "stdout",
          "text": [
            "tensor([[0.2182, 0.0080, 0.6318, 0.8539],\n",
            "        [0.3695, 0.2666, 0.5886, 0.3726],\n",
            "        [0.5589, 0.1209, 0.0591, 0.3431]]) tensor([[0.2806, 0.9679, 0.7476, 0.3218],\n",
            "        [0.2279, 0.2119, 0.3303, 0.2169],\n",
            "        [0.5005, 0.5225, 0.0687, 0.0816]])\n",
            "tensor([[False, False, False, False],\n",
            "        [False, False, False, False],\n",
            "        [False, False, False, False]])\n"
          ]
        }
      ]
    },
    {
      "cell_type": "code",
      "source": [
        "RANDOM_SEED = 42\n",
        "torch.manual_seed(RANDOM_SEED)\n",
        "random_tensorC = torch.rand(3,4)\n",
        "torch.manual_seed(RANDOM_SEED)\n",
        "random_tensorD = torch.rand(3,4)\n",
        "print(random_tensorC, random_tensorD)\n",
        "print(random_tensorC == random_tensorD)\n",
        "\n",
        "# sometimes we are in hurry to create multiple tensor with same random numbers then we can use this\n",
        "# making random numbers reproducible"
      ],
      "metadata": {
        "colab": {
          "base_uri": "https://localhost:8080/"
        },
        "id": "IVuq-4CckQHE",
        "outputId": "0e73ee19-bded-4ff7-bb6f-3bbf6dc1e159"
      },
      "execution_count": null,
      "outputs": [
        {
          "output_type": "stream",
          "name": "stdout",
          "text": [
            "tensor([[0.8823, 0.9150, 0.3829, 0.9593],\n",
            "        [0.3904, 0.6009, 0.2566, 0.7936],\n",
            "        [0.9408, 0.1332, 0.9346, 0.5936]]) tensor([[0.8823, 0.9150, 0.3829, 0.9593],\n",
            "        [0.3904, 0.6009, 0.2566, 0.7936],\n",
            "        [0.9408, 0.1332, 0.9346, 0.5936]])\n",
            "tensor([[True, True, True, True],\n",
            "        [True, True, True, True],\n",
            "        [True, True, True, True]])\n"
          ]
        }
      ]
    },
    {
      "cell_type": "code",
      "source": [
        "!nvidia-smi"
      ],
      "metadata": {
        "colab": {
          "base_uri": "https://localhost:8080/"
        },
        "id": "qvpWqP5clnjD",
        "outputId": "9559847c-498c-4db9-bc4c-53d6445c7238"
      },
      "execution_count": null,
      "outputs": [
        {
          "output_type": "stream",
          "name": "stdout",
          "text": [
            "Mon Sep  4 09:49:33 2023       \n",
            "+-----------------------------------------------------------------------------+\n",
            "| NVIDIA-SMI 525.105.17   Driver Version: 525.105.17   CUDA Version: 12.0     |\n",
            "|-------------------------------+----------------------+----------------------+\n",
            "| GPU  Name        Persistence-M| Bus-Id        Disp.A | Volatile Uncorr. ECC |\n",
            "| Fan  Temp  Perf  Pwr:Usage/Cap|         Memory-Usage | GPU-Util  Compute M. |\n",
            "|                               |                      |               MIG M. |\n",
            "|===============================+======================+======================|\n",
            "|   0  Tesla T4            Off  | 00000000:00:04.0 Off |                    0 |\n",
            "| N/A   62C    P8    11W /  70W |      0MiB / 15360MiB |      0%      Default |\n",
            "|                               |                      |                  N/A |\n",
            "+-------------------------------+----------------------+----------------------+\n",
            "                                                                               \n",
            "+-----------------------------------------------------------------------------+\n",
            "| Processes:                                                                  |\n",
            "|  GPU   GI   CI        PID   Type   Process name                  GPU Memory |\n",
            "|        ID   ID                                                   Usage      |\n",
            "|=============================================================================|\n",
            "|  No running processes found                                                 |\n",
            "+-----------------------------------------------------------------------------+\n"
          ]
        }
      ]
    },
    {
      "cell_type": "code",
      "source": [
        "import torch\n",
        "torch.cuda.is_available()"
      ],
      "metadata": {
        "colab": {
          "base_uri": "https://localhost:8080/"
        },
        "id": "Gr_d8qdVmOr-",
        "outputId": "4c9f9e66-528a-4869-eea4-570c5eea2d1e"
      },
      "execution_count": null,
      "outputs": [
        {
          "output_type": "execute_result",
          "data": {
            "text/plain": [
              "True"
            ]
          },
          "metadata": {},
          "execution_count": 2
        }
      ]
    },
    {
      "cell_type": "code",
      "source": [
        "#setup device agnostic code\n",
        "device = 'cuda' if torch.cuda.is_available() else 'cpu'\n",
        "device"
      ],
      "metadata": {
        "colab": {
          "base_uri": "https://localhost:8080/",
          "height": 35
        },
        "id": "iJvbaJWvmgth",
        "outputId": "94b1887c-4a9e-4d83-ded4-69e758d8cebe"
      },
      "execution_count": null,
      "outputs": [
        {
          "output_type": "execute_result",
          "data": {
            "text/plain": [
              "'cuda'"
            ],
            "application/vnd.google.colaboratory.intrinsic+json": {
              "type": "string"
            }
          },
          "metadata": {},
          "execution_count": 3
        }
      ]
    },
    {
      "cell_type": "code",
      "source": [
        "# count no of gpu\n",
        "torch.cuda.device_count()"
      ],
      "metadata": {
        "colab": {
          "base_uri": "https://localhost:8080/"
        },
        "id": "9T6gu1wimusK",
        "outputId": "58ee9bda-699c-49ad-e043-198156a8ee42"
      },
      "execution_count": null,
      "outputs": [
        {
          "output_type": "execute_result",
          "data": {
            "text/plain": [
              "1"
            ]
          },
          "metadata": {},
          "execution_count": 5
        }
      ]
    },
    {
      "cell_type": "code",
      "source": [
        "# putting tensors on gpu\n",
        "\n",
        "\n",
        "tensor = torch.tensor([1,2,3])\n",
        "print(tensor,tensor.device)"
      ],
      "metadata": {
        "colab": {
          "base_uri": "https://localhost:8080/"
        },
        "id": "TZ6YRvEUm3Nq",
        "outputId": "2bf0ef32-b5e9-41cf-8ce7-9b2fce72ab49"
      },
      "execution_count": null,
      "outputs": [
        {
          "output_type": "stream",
          "name": "stdout",
          "text": [
            "tensor([1, 2, 3]) cpu\n"
          ]
        }
      ]
    },
    {
      "cell_type": "code",
      "source": [
        "tensor = torch.tensor([1,2,3])\n",
        "print(tensor)"
      ],
      "metadata": {
        "colab": {
          "base_uri": "https://localhost:8080/"
        },
        "id": "AsSz3b-1nj4s",
        "outputId": "d3d47814-d0d7-44c6-85e6-5b237c3a7c99"
      },
      "execution_count": null,
      "outputs": [
        {
          "output_type": "stream",
          "name": "stdout",
          "text": [
            "tensor([1, 2, 3])\n"
          ]
        }
      ]
    },
    {
      "cell_type": "code",
      "source": [
        "# moving tensor to gpu\n",
        "tensor_on_gpu = tensor.to(device)\n",
        "print(tensor_on_gpu)\n",
        "#device agnostic code makes it easier to move, if cuda not available then it will run on cpu\n",
        "# if there is no device agnostic code it might genearte error\n",
        "# cuda:0 tells us that there is only one gpu and it's running on that, if there are more then it will show otherwise"
      ],
      "metadata": {
        "colab": {
          "base_uri": "https://localhost:8080/"
        },
        "id": "M43bPmyRnmsK",
        "outputId": "3163a03b-05b3-4674-bcb0-a3983361585e"
      },
      "execution_count": null,
      "outputs": [
        {
          "output_type": "stream",
          "name": "stdout",
          "text": [
            "tensor([1, 2, 3], device='cuda:0')\n"
          ]
        }
      ]
    },
    {
      "cell_type": "code",
      "source": [
        "#if tensor on gpu, then can't transform to numpy because numpy doesn't work on gpu\n",
        "tensor_on_gpu.numpy()"
      ],
      "metadata": {
        "colab": {
          "base_uri": "https://localhost:8080/",
          "height": 193
        },
        "id": "woQrvlkqoKwC",
        "outputId": "98222cd3-4e1f-4751-e12a-1491ae605354"
      },
      "execution_count": null,
      "outputs": [
        {
          "output_type": "error",
          "ename": "TypeError",
          "evalue": "ignored",
          "traceback": [
            "\u001b[0;31m---------------------------------------------------------------------------\u001b[0m",
            "\u001b[0;31mTypeError\u001b[0m                                 Traceback (most recent call last)",
            "\u001b[0;32m<ipython-input-12-aaf7e8408755>\u001b[0m in \u001b[0;36m<cell line: 2>\u001b[0;34m()\u001b[0m\n\u001b[1;32m      1\u001b[0m \u001b[0;31m#if tensor on gpu, then can't transform to numpy because numpy doesn't work on gpu\u001b[0m\u001b[0;34m\u001b[0m\u001b[0;34m\u001b[0m\u001b[0m\n\u001b[0;32m----> 2\u001b[0;31m \u001b[0mtensor_on_gpu\u001b[0m\u001b[0;34m.\u001b[0m\u001b[0mnumpy\u001b[0m\u001b[0;34m(\u001b[0m\u001b[0;34m)\u001b[0m\u001b[0;34m\u001b[0m\u001b[0;34m\u001b[0m\u001b[0m\n\u001b[0m",
            "\u001b[0;31mTypeError\u001b[0m: can't convert cuda:0 device type tensor to numpy. Use Tensor.cpu() to copy the tensor to host memory first."
          ]
        }
      ]
    },
    {
      "cell_type": "code",
      "source": [
        "#to fix the issue\n",
        "tensor_backon_cpu = tensor_on_gpu.cpu().numpy()\n",
        "tensor_backon_cpu"
      ],
      "metadata": {
        "colab": {
          "base_uri": "https://localhost:8080/"
        },
        "id": "1ao7Z3OLowo9",
        "outputId": "8ea305d4-58e1-4777-ba6b-97c0b01ea425"
      },
      "execution_count": null,
      "outputs": [
        {
          "output_type": "execute_result",
          "data": {
            "text/plain": [
              "array([1, 2, 3])"
            ]
          },
          "metadata": {},
          "execution_count": 16
        }
      ]
    },
    {
      "cell_type": "code",
      "source": [
        "tensor_on_gpu"
      ],
      "metadata": {
        "id": "wP9bXzBWwD4a",
        "outputId": "cfc22554-e40d-4008-ad32-36d0023ba9ba",
        "colab": {
          "base_uri": "https://localhost:8080/"
        }
      },
      "execution_count": null,
      "outputs": [
        {
          "output_type": "execute_result",
          "data": {
            "text/plain": [
              "tensor([1, 2, 3], device='cuda:0')"
            ]
          },
          "metadata": {},
          "execution_count": 17
        }
      ]
    }
  ]
}